{
 "cells": [
  {
   "cell_type": "code",
   "execution_count": 22,
   "id": "c024920c-a257-46b2-9414-bc010c696646",
   "metadata": {},
   "outputs": [],
   "source": [
    "import numpy as np\n",
    "\n",
    "# WRONG VERSION of creating vectors --------------\n",
    "# init array, rank 1 array, inconsistent format ... don't use it\n",
    "a = np.random.randn(5)\n",
    "\n",
    "# !!!BUT, if you have one, you can respahe it => \"a = a.reshape((5,1))\" !!!"
   ]
  },
  {
   "cell_type": "code",
   "execution_count": 3,
   "id": "efb68190-1210-44d5-b78e-64ab3d61dccd",
   "metadata": {},
   "outputs": [
    {
     "name": "stdout",
     "output_type": "stream",
     "text": [
      "[ 0.0567136   0.68117066 -0.72485769 -0.11468964  0.62878081]\n"
     ]
    }
   ],
   "source": [
    "print(a)"
   ]
  },
  {
   "cell_type": "code",
   "execution_count": 4,
   "id": "0dd25732-7eb9-4af8-a111-e579475fa3cb",
   "metadata": {},
   "outputs": [
    {
     "name": "stdout",
     "output_type": "stream",
     "text": [
      "(5,)\n"
     ]
    }
   ],
   "source": [
    "# that the issue with shape ... \"(5,)\"\n",
    "print(a.shape)"
   ]
  },
  {
   "cell_type": "code",
   "execution_count": 5,
   "id": "26844959-3550-404e-ad97-3ad51cfb26a0",
   "metadata": {},
   "outputs": [
    {
     "name": "stdout",
     "output_type": "stream",
     "text": [
      "[ 0.0567136   0.68117066 -0.72485769 -0.11468964  0.62878081]\n"
     ]
    }
   ],
   "source": [
    "# a.T === a !!!! it's wrong, we don't have to use it like that!\n",
    "print(a.T)"
   ]
  },
  {
   "cell_type": "code",
   "execution_count": 7,
   "id": "2730a6b8-a6af-41d0-9d55-a7d2f798e06c",
   "metadata": {},
   "outputs": [
    {
     "name": "stdout",
     "output_type": "stream",
     "text": [
      "1.401147592886426\n"
     ]
    }
   ],
   "source": [
    "# Wrong! it should be matrix 5x5, but got just number!\n",
    "print(np.dot(a, a.T))"
   ]
  },
  {
   "cell_type": "code",
   "execution_count": 8,
   "id": "855a3e4d-b156-40db-a50a-ed5fff63d95a",
   "metadata": {},
   "outputs": [],
   "source": [
    "# CORRECT VERSION of creating vectors ------------"
   ]
  },
  {
   "cell_type": "code",
   "execution_count": 5,
   "id": "3b45ec4d-ed52-4842-b63b-7daf64138d5d",
   "metadata": {},
   "outputs": [
    {
     "name": "stdout",
     "output_type": "stream",
     "text": [
      "[[-1.21513113]\n",
      " [-2.86781635]\n",
      " [-0.22766451]\n",
      " [ 0.90552815]\n",
      " [-0.37284002]]\n"
     ]
    }
   ],
   "source": [
    "# correct format/shape of matrix\n",
    "a = np.random.randn(5, 1) \n",
    "# or use it like (1,5)\n",
    "print(a)"
   ]
  },
  {
   "cell_type": "code",
   "execution_count": 8,
   "id": "2a956369-b823-4d84-9c38-f84ee0ef0ee8",
   "metadata": {},
   "outputs": [
    {
     "name": "stdout",
     "output_type": "stream",
     "text": [
      "[[-1.21513113 -2.86781635 -0.22766451  0.90552815 -0.37284002]]\n"
     ]
    }
   ],
   "source": [
    "# correct transposed (транспонированная) matrix\n",
    "print(a.T)"
   ]
  },
  {
   "cell_type": "code",
   "execution_count": 13,
   "id": "cb8de312-fc65-4179-b033-84d7c1636e83",
   "metadata": {},
   "outputs": [
    {
     "name": "stdout",
     "output_type": "stream",
     "text": [
      "[[ 1.47654367  3.48477293  0.27664223 -1.10033545  0.45304952]\n",
      " [ 3.48477293  8.22437063  0.6529     -2.59688844  1.06923672]\n",
      " [ 0.27664223  0.6529      0.05183113 -0.20615662  0.08488244]\n",
      " [-1.10033545 -2.59688844 -0.20615662  0.81998123 -0.33761714]\n",
      " [ 0.45304952  1.06923672  0.08488244 -0.33761714  0.13900968]]\n"
     ]
    }
   ],
   "source": [
    "# Correct multiply of a and a.T matrix (5,1) * (1,5) => (5,5) matrix\n",
    "print(np.dot(a, a.T))"
   ]
  },
  {
   "cell_type": "code",
   "execution_count": 21,
   "id": "8123d192-b9bc-4d07-83ff-759f64da35e1",
   "metadata": {},
   "outputs": [
    {
     "name": "stdout",
     "output_type": "stream",
     "text": [
      "Correct format\n"
     ]
    }
   ],
   "source": [
    "# To be sure about the shape we can use \"assert\"\n",
    "assert(a.shape == (5, 1))\n",
    "# And it's like documentation, good practice to use it in the code\n",
    "print('Correct format')"
   ]
  },
  {
   "cell_type": "code",
   "execution_count": null,
   "id": "519ba34e-6b8a-4d97-8aa2-78389ae21382",
   "metadata": {},
   "outputs": [],
   "source": []
  }
 ],
 "metadata": {
  "kernelspec": {
   "display_name": "Python 3 (ipykernel)",
   "language": "python",
   "name": "python3"
  },
  "language_info": {
   "codemirror_mode": {
    "name": "ipython",
    "version": 3
   },
   "file_extension": ".py",
   "mimetype": "text/x-python",
   "name": "python",
   "nbconvert_exporter": "python",
   "pygments_lexer": "ipython3",
   "version": "3.10.12"
  }
 },
 "nbformat": 4,
 "nbformat_minor": 5
}
