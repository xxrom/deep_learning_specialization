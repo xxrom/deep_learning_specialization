{
 "cells": [
  {
   "cell_type": "code",
   "execution_count": 1,
   "id": "f5d458b9-edf2-40b1-9844-3e0edc7d288f",
   "metadata": {},
   "outputs": [
    {
     "name": "stdout",
     "output_type": "stream",
     "text": [
      "[1 2 3 4]\n"
     ]
    }
   ],
   "source": [
    "import numpy as np\n",
    "\n",
    "a = np.array([1,2,3,4])\n",
    "print(a)"
   ]
  },
  {
   "cell_type": "code",
   "execution_count": 18,
   "id": "9e32a97d-9ae6-4c6f-b6b2-14b1c9b40613",
   "metadata": {},
   "outputs": [
    {
     "name": "stdout",
     "output_type": "stream",
     "text": [
      "Vectorized vestion: 0.3113746643066406ms\n",
      "For loop version: 162.63222694396973ms\n",
      "Vectorized version X times faster: 522.3039816232772 !!!!\n"
     ]
    }
   ],
   "source": [
    "import time\n",
    "\n",
    "# Simple comparison\n",
    "# c = a * b\n",
    "\n",
    "a = np.random.rand(1000000)\n",
    "b = np.random.rand(1000000)\n",
    "\n",
    "tic = time.time()\n",
    "c = np.dot(a,b)\n",
    "toc = time.time()\n",
    "t0 = toc - tic\n",
    "print(\"Vectorized vestion: \" + str(1000*(toc-tic)) + 'ms')\n",
    "\n",
    "# ---------\n",
    "\n",
    "c = 0\n",
    "tic = time.time()\n",
    "for i in range(1000000):\n",
    "  c += a[i] * b[i]\n",
    "toc = time.time()\n",
    "t1 = toc - tic\n",
    "print(\"For-loop version: \" + str(1000*(toc-tic)) + 'ms')\n",
    "\n",
    "print(\"Vectorized version X times faster: \" + str(t1 / t0) + ' !!!!')\n"
   ]
  },
  {
   "cell_type": "code",
   "execution_count": null,
   "id": "dd17c8b8-1b46-4bd8-8a2d-726396b627df",
   "metadata": {},
   "outputs": [],
   "source": [
    "# ----------------------------------"
   ]
  },
  {
   "cell_type": "code",
   "execution_count": 38,
   "id": "05100b07-1d5d-4fa9-977d-21e57772af8a",
   "metadata": {},
   "outputs": [
    {
     "name": "stdout",
     "output_type": "stream",
     "text": [
      "Sum: 245187.65153097128 For-loop version, Time: 1330.026626586914ms\n",
      "Sum: 245187.65153097128 Vectorized version, Time: 1.3315677642822266ms\n"
     ]
    }
   ],
   "source": [
    "import numpy as np\n",
    "import time\n",
    "\n",
    "# Using for-loops\n",
    "\n",
    "# u = A*v\n",
    "# u[i] = Sum(A[i][j] * v[j])\n",
    "\n",
    "n = 1000\n",
    "A = np.random.rand(n, n)\n",
    "v = np.random.rand(n, 1)\n",
    "\n",
    "u = np.zeros((n,1))\n",
    "tic = time.time()\n",
    "for i in range(n):\n",
    "  for j in range(n):\n",
    "    u[i] += A[i][j] * v[j]\n",
    "toc = time.time()\n",
    "print('Sum: ' + str(u.sum()) + ' For-loop version, Time: ' + str(1000 * (toc-tic)) + 'ms')\n",
    "\n",
    "# ------------\n",
    "\n",
    "# Using vectorized version\n",
    "\n",
    "tic = time.time()\n",
    "u = np.dot(A,v)\n",
    "toc = time.time()\n",
    "\n",
    "print('Sum: ' + str(u.sum()) + ' Vectorized version, Time: ' + str(1000 * (toc-tic)) + 'ms')\n"
   ]
  },
  {
   "cell_type": "code",
   "execution_count": 39,
   "id": "79de912b-ef53-472b-a182-24a8092d3440",
   "metadata": {},
   "outputs": [],
   "source": [
    "# ------------"
   ]
  },
  {
   "cell_type": "code",
   "execution_count": 51,
   "id": "20387e53-ac63-43ef-b2d3-9451feece750",
   "metadata": {},
   "outputs": [
    {
     "name": "stdout",
     "output_type": "stream",
     "text": [
      "1718036.2328026479 For-loop version: 262.1448040008545ms\n",
      "1718036.2328026479 Vectorized version: 0.5402565002441406ms\n"
     ]
    }
   ],
   "source": [
    "import numpy as np\n",
    "import time\n",
    "import math\n",
    "\n",
    "# v =[1,2,3,4] => u = [e^v1, e^v2, ... e^vn]\n",
    "\n",
    "n = 1000000\n",
    "v = np.random.rand(n)\n",
    "u = np.zeros((n,1))\n",
    "\n",
    "tic = time.time()\n",
    "for i in range(n):\n",
    "  u[i] = math.exp(v[i])\n",
    "toc = time.time()\n",
    "\n",
    "print(str(u.sum()) + ' For-loop version: ' + str(1000* (toc-tic)) + 'ms')\n",
    "\n",
    "# ----------------\n",
    "\n",
    "tic = time.time()\n",
    "u = np.exp(v)\n",
    "toc = time.time()\n",
    "\n",
    "print(str(u.sum()) + ' Vectorized version: ' + str(1000* (toc-tic)) + 'ms')\n"
   ]
  }
 ],
 "metadata": {
  "kernelspec": {
   "display_name": "Python 3 (ipykernel)",
   "language": "python",
   "name": "python3"
  },
  "language_info": {
   "codemirror_mode": {
    "name": "ipython",
    "version": 3
   },
   "file_extension": ".py",
   "mimetype": "text/x-python",
   "name": "python",
   "nbconvert_exporter": "python",
   "pygments_lexer": "ipython3",
   "version": "3.10.9"
  }
 },
 "nbformat": 4,
 "nbformat_minor": 5
}
